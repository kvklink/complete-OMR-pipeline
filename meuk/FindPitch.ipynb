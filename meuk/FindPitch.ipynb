{
 "cells": [
  {
   "cell_type": "code",
   "execution_count": 1,
   "metadata": {},
   "outputs": [
    {
     "name": "stdout",
     "output_type": "stream",
     "text": [
      "Using matplotlib backend: Qt5Agg\n"
     ]
    }
   ],
   "source": [
    "%matplotlib auto"
   ]
  },
  {
   "cell_type": "code",
   "execution_count": 2,
   "metadata": {},
   "outputs": [],
   "source": [
    "import cv2\n",
    "import numpy as np\n",
    "import matplotlib.pyplot as plt\n",
    "import math"
   ]
  },
  {
   "cell_type": "markdown",
   "metadata": {},
   "source": [
    "Separate total sheet music into bar images"
   ]
  },
  {
   "cell_type": "code",
   "execution_count": 346,
   "metadata": {},
   "outputs": [],
   "source": [
    "img = cv2.imread('probeersel/Fmttm.png') \n",
    "rows,cols = img.shape[:2]\n",
    "\n",
    "# M = cv2.getRotationMatrix2D(((cols-1)/2.0,(rows-1)/2.0),0.5,1)\n",
    "# img_scheef = cv2.warpAffine(img,M,(cols,rows))\n",
    "# img = img_scheef.copy()\n",
    "\n",
    "img_struct = img.copy()\n",
    "\n",
    "gray = cv2.cvtColor(img_struct, cv2.COLOR_BGR2GRAY)\n",
    "(thresh, im_bw) = cv2.threshold(gray, 128, 255, cv2.THRESH_BINARY | cv2.THRESH_OTSU)\n",
    "\n",
    "erode_struct = cv2.getStructuringElement(cv2.MORPH_RECT, (1,20))\n",
    "dilate_struct = cv2.getStructuringElement(cv2.MORPH_RECT, (20,1))\n",
    "\n",
    "step1 = cv2.erode(im_bw, erode_struct, 1)\n",
    "step2 = cv2.dilate(step1, dilate_struct, 1)\n",
    "im_inv = cv2.bitwise_not(step2)\n",
    "\n",
    "img_row_sum = np.sum(im_inv,axis=1).tolist()\n",
    "\n",
    "threshold = 0.5\n",
    "for i,r in enumerate(img_row_sum):\n",
    "    perc = r/(255*im_inv.shape[1])\n",
    "    img_row_sum[i] = perc\n",
    "    \n",
    "start = []\n",
    "end = []\n",
    "full = []\n",
    "for i, val in enumerate(img_row_sum):\n",
    "    if i == 0: continue\n",
    "    if val==threshold:\n",
    "        pass\n",
    "    elif val>threshold and img_row_sum[i-1]<threshold:\n",
    "        start.append(i)\n",
    "        full.append(i)\n",
    "    elif val<threshold and img_row_sum[i-1]>threshold:\n",
    "        end.append(i)\n",
    "        full.append(i)\n",
    "\n",
    "cut = []\n",
    "for i,val in enumerate(full):\n",
    "    if i == 0:\n",
    "        if val in start and full[i+2] in start:\n",
    "            dist = full[i+2]-val\n",
    "            cutloc_s = val-dist\n",
    "            cut.append([max(cutloc_s,0), full[i+2]])\n",
    "    elif i == len(full)-2 and val in start and full[i-1] in end and full[i+1] in end:\n",
    "        dist = full[i+1] - full[i-1]\n",
    "        cutloc_e = full[i+1] + dist\n",
    "        cut.append([full[i-1], min(cutloc_e,len(img_row_sum)-1)])\n",
    "    elif i == len(full)-1:\n",
    "        break\n",
    "    elif val in start and full[i-1] in end and full[i+2] in start:\n",
    "        cut.append([full[i-1], full[i+2]])\n",
    "        \n",
    "staffs = []\n",
    "for i in range(len(cut)):\n",
    "    crop1 = img[cut[i][0]:cut[i][1], 0:img.shape[1]]\n",
    "    staffs.append(crop1)\n",
    "    \n",
    "for s in staffs:\n",
    "     cv2.imshow('image cropped', s); cv2.waitKey(0); cv2.destroyAllWindows();cv2.waitKey(1)"
   ]
  },
  {
   "cell_type": "markdown",
   "metadata": {},
   "source": [
    "Load bar image"
   ]
  },
  {
   "cell_type": "code",
   "execution_count": 347,
   "metadata": {},
   "outputs": [],
   "source": [
    "# img = cv2.imread('probeersel/Fmttm-1bar.png') \n",
    "img_bar = staffs[0]\n",
    "# cv2.imshow('image bar', img_bar)"
   ]
  },
  {
   "cell_type": "code",
   "execution_count": 348,
   "metadata": {},
   "outputs": [],
   "source": [
    "height,width = img_bar.shape[:2]\n",
    "img_gray = cv2.cvtColor(img_bar, cv2.COLOR_BGR2GRAY)"
   ]
  },
  {
   "cell_type": "code",
   "execution_count": 349,
   "metadata": {},
   "outputs": [],
   "source": [
    "img_copy = img_bar.copy()"
   ]
  },
  {
   "cell_type": "markdown",
   "metadata": {},
   "source": [
    "Find barlines"
   ]
  },
  {
   "cell_type": "code",
   "execution_count": 350,
   "metadata": {},
   "outputs": [
    {
     "data": {
      "text/plain": [
       "-1"
      ]
     },
     "execution_count": 350,
     "metadata": {},
     "output_type": "execute_result"
    }
   ],
   "source": [
    "# Canny edge detection\n",
    "\n",
    "img_struct_hor = img_copy.copy()\n",
    "hor_size = round(img_struct_hor.shape[1]/30)\n",
    "hor_struct = cv2.getStructuringElement(cv2.MORPH_RECT, (hor_size,1))\n",
    "\n",
    "img_struct_hor3 = cv2.dilate(img_struct_hor, hor_struct, 1)\n",
    "eroted = cv2.erode(img_struct_hor3, hor_struct, 3)\n",
    "\n",
    "gray = cv2.cvtColor(eroted, cv2.COLOR_BGR2GRAY)\n",
    "(thresh, img_bw) = cv2.threshold(gray, 128, 255, cv2.THRESH_BINARY | cv2.THRESH_OTSU)\n",
    "gray2 = cv2.cvtColor(img_bw, cv2.COLOR_GRAY2BGR)\n",
    "\n",
    "edges2 = cv2.Canny(gray2, 100,200)\n",
    "cv2.imshow('eroted', edges2); cv2.waitKey(0); cv2.destroyAllWindows();cv2.waitKey(1)"
   ]
  },
  {
   "cell_type": "code",
   "execution_count": 351,
   "metadata": {},
   "outputs": [],
   "source": [
    "# Find Hough lines\n",
    "\n",
    "img_canny = eroted.copy()\n",
    "lines = cv2.HoughLinesP(edges2, 1, math.pi/2, 1, None, 50, 10)"
   ]
  },
  {
   "cell_type": "code",
   "execution_count": 352,
   "metadata": {},
   "outputs": [],
   "source": [
    "# Label useless lines for removal and combine consecutive lines\n",
    "\n",
    "for i, linearr in enumerate(lines):\n",
    "    line = linearr[0]\n",
    "    pt1 = (line[0],line[1])\n",
    "    pt2 = (line[2],line[3])\n",
    "    xlen1 = pt2[0]-pt1[0]\n",
    "    ylen1 = pt2[1]-pt1[1]\n",
    "    rot1 = math.degrees(math.atan(ylen1/xlen1))\n",
    "#         print('start = %d,%d, end = %d,%d, xlen = %d, ylen = %d'%(pt1[0],pt1[1],pt2[0],pt2[1],xlen1,ylen1))\n",
    "#         print(rot1)\n",
    "    if abs(rot1)>=3:\n",
    "        lines[i] = [[0,0,0,0]]\n",
    "\n",
    "for i, linearr in enumerate(lines):\n",
    "#         print(linearr)\n",
    "    line = linearr[0]\n",
    "    pt1 = (line[0],line[1])\n",
    "    pt2 = (line[2],line[3])\n",
    "    for j, linearr2 in enumerate(lines):\n",
    "        line2 = linearr2[0]\n",
    "        pt3 = (line2[0],line2[1])\n",
    "        pt4 = (line2[2],line2[3])\n",
    "        if (pt3[0] in range(pt1[0]+1,pt2[0]+2) and pt3[1] in range(pt2[1]-1,pt2[1]+2)):\n",
    "            if pt4[0]>pt2[0]:\n",
    "                xlen1 = pt2[0]-pt1[0]\n",
    "                ylen1 = pt2[1]-pt1[1]\n",
    "                xlen2 = pt4[0]-pt3[0]\n",
    "                ylen2 = pt4[1]-pt3[1]\n",
    "                rot1 = math.degrees(math.atan(ylen1/xlen1))\n",
    "                rot2 = math.degrees(math.atan(ylen2/xlen2))\n",
    "    #             print('%f vs. %f'%(rot1,rot2))\n",
    "                if abs(rot1-rot2)<3:\n",
    "                    lines[j] = [[pt1[0], pt1[1], pt4[0], pt4[1]]]\n",
    "                    lines[i] = [[0,0,0,0]]\n",
    "                    break\n",
    "            else:\n",
    "                lines[j] = [[0,0,0,0]]\n",
    "\n",
    "for i, linearr in enumerate(lines):\n",
    "    line = linearr[0]\n",
    "    pt1 = (line[0],line[1])\n",
    "    pt2 = (line[2],line[3])\n",
    "    xlen1 = pt2[0]-pt1[0]\n",
    "    if xlen1 < width/4:\n",
    "        lines[i] = [[0,0,0,0]]"
   ]
  },
  {
   "cell_type": "code",
   "execution_count": 353,
   "metadata": {},
   "outputs": [],
   "source": [
    "# Remove labeled lines\n",
    "\n",
    "new_lines = []\n",
    "for linearr in lines:\n",
    "    line = linearr[0]\n",
    "    if line.all() == 0:\n",
    "        continue\n",
    "    new_lines.append(line)"
   ]
  },
  {
   "cell_type": "code",
   "execution_count": 354,
   "metadata": {},
   "outputs": [],
   "source": [
    "# Function for the found lines\n",
    "\n",
    "def calc_y(line,x):\n",
    "    x1 = line[0]\n",
    "    y1 = line[1]\n",
    "    x2 = line[2]\n",
    "    y2 = line[3]\n",
    "    \n",
    "    y = x*(y2-y1)/(x2-x1) + ((x2*y1 - x1*y2)/(x2-x1))\n",
    "    return int(y)"
   ]
  },
  {
   "cell_type": "code",
   "execution_count": 355,
   "metadata": {},
   "outputs": [],
   "source": [
    "# Stretch lines across entire image\n",
    "\n",
    "long_lines = []\n",
    "\n",
    "for n, line in enumerate(new_lines):\n",
    "    new_p1_x = 0\n",
    "    new_p1_y = calc_y(line,new_p1_x)\n",
    "    \n",
    "    new_p2_x = width\n",
    "    new_p2_y = calc_y(line,new_p2_x)\n",
    "    \n",
    "    long_lines.append([new_p1_x, new_p1_y, new_p2_x, new_p2_y])"
   ]
  },
  {
   "cell_type": "code",
   "execution_count": 356,
   "metadata": {},
   "outputs": [],
   "source": [
    "# Remove (semi-)duplicate lines\n",
    "\n",
    "long_lines = sorted(long_lines, key=lambda x: x[1])\n",
    "unique_lines = []\n",
    "\n",
    "for i,l in enumerate(long_lines):\n",
    "    if i==0: continue\n",
    "    if l[1]-long_lines[i-1][1]>3:\n",
    "        unique_lines.append(long_lines[i-1])\n",
    "        if i==len(long_lines)-1:\n",
    "            unique_lines.append(l)\n",
    "    elif i==len(long_lines)-1:\n",
    "        unique_lines.append(long_lines[i-1])"
   ]
  },
  {
   "cell_type": "code",
   "execution_count": 357,
   "metadata": {},
   "outputs": [],
   "source": [
    "for i in range(len(unique_lines)):\n",
    "    unique_lines[i][1] = unique_lines[i][1]+1\n",
    "    unique_lines[i][3] = unique_lines[i][3]+1"
   ]
  },
  {
   "cell_type": "code",
   "execution_count": 358,
   "metadata": {},
   "outputs": [
    {
     "data": {
      "text/plain": [
       "-1"
      ]
     },
     "execution_count": 358,
     "metadata": {},
     "output_type": "execute_result"
    }
   ],
   "source": [
    "# Show final lines\n",
    "\n",
    "colours = [(255,0,0),(0,255,0),(0,0,255),(255,255,0),(0,255,255),(255,0,255)]\n",
    "\n",
    "img_canny3 = eroted.copy()\n",
    "for n, line in enumerate(unique_lines):\n",
    "    nr = n%len(colours)\n",
    "    pt1 = (line[0],line[1])\n",
    "    pt2 = (line[2],line[3])\n",
    "    cv2.line(img_canny3, pt1, pt2, colours[nr], 1)\n",
    "cv2.imshow('edge detection', img_canny3); cv2.waitKey(0); cv2.destroyAllWindows();cv2.waitKey(1)"
   ]
  },
  {
   "cell_type": "code",
   "execution_count": 359,
   "metadata": {},
   "outputs": [],
   "source": [
    "def calc_avg_distance(lines):\n",
    "    s = [x[1] for x in lines]\n",
    "    e = [x[3] for x in lines]\n",
    "    diff_s = [j-i for i, j in zip(s[:-1], s[1:])]\n",
    "    diff_e = [j-i for i, j in zip(e[:-1], e[1:])]\n",
    "    ds = sum(diff_s)/len(diff_s)\n",
    "    de = sum(diff_e)/len(diff_e)\n",
    "    return(int((ds+de)/2))\n",
    "\n",
    "dist = calc_avg_distance(unique_lines)\n",
    "\n",
    "def calc_lower_lines(lines):\n",
    "    # create all(4) the lines below the bar\n",
    "    s = [x[1] for x in lines]\n",
    "    e = [x[3] for x in lines]\n",
    "    \n",
    "    s_bottom = max(s)\n",
    "    e_bottom = max(e)\n",
    "    \n",
    "    new_lines = lines.copy()\n",
    "    for i in range(1,5):\n",
    "        new_line = [0,s_bottom+(i*dist),width,e_bottom+(i*dist)]\n",
    "        new_lines.append(new_line)\n",
    "        \n",
    "    return new_lines\n",
    "\n",
    "def calc_higher_lines(lines):\n",
    "    # create all(4) the lines above the bar\n",
    "    s = [x[1] for x in lines]\n",
    "    e = [x[3] for x in lines]\n",
    "    \n",
    "    s_top = min(s)\n",
    "    e_top = min(e)\n",
    "    \n",
    "    new_lines = lines.copy()\n",
    "    for i in range(1,5):\n",
    "        new_line = [0,s_top-(i*dist),width,e_top-(i*dist)]\n",
    "        new_lines.append(new_line)\n",
    "        \n",
    "    return new_lines"
   ]
  },
  {
   "cell_type": "markdown",
   "metadata": {},
   "source": [
    "<b> -------------------------TOT HIER-------------------------</b>"
   ]
  },
  {
   "cell_type": "code",
   "execution_count": 360,
   "metadata": {},
   "outputs": [],
   "source": [
    "all_lines = sorted(calc_higher_lines(calc_lower_lines(unique_lines)), key=lambda x: x[1])"
   ]
  },
  {
   "cell_type": "code",
   "execution_count": 361,
   "metadata": {},
   "outputs": [
    {
     "data": {
      "text/plain": [
       "-1"
      ]
     },
     "execution_count": 361,
     "metadata": {},
     "output_type": "execute_result"
    }
   ],
   "source": [
    "# Show final lines\n",
    "\n",
    "colours = [(255,0,0),(0,255,0),(0,0,255),(255,255,0),(0,255,255),(255,0,255)]\n",
    "\n",
    "img_canny3 = eroted.copy()\n",
    "for n, line in enumerate(all_lines):\n",
    "    nr = n%len(colours)\n",
    "    pt1 = (line[0],line[1])\n",
    "    pt2 = (line[2],line[3])\n",
    "    cv2.line(img_canny3, pt1, pt2, colours[nr], 1)\n",
    "cv2.imshow('edge detection', img_canny3); cv2.waitKey(0); cv2.destroyAllWindows();cv2.waitKey(1)"
   ]
  },
  {
   "cell_type": "markdown",
   "metadata": {},
   "source": [
    "Load templates"
   ]
  },
  {
   "cell_type": "code",
   "execution_count": 362,
   "metadata": {},
   "outputs": [],
   "source": [
    "template_head = cv2.imread('probeersel/head-filled.png',0)\n",
    "h_head,w_head = template_head.shape[::1]"
   ]
  },
  {
   "cell_type": "code",
   "execution_count": 363,
   "metadata": {},
   "outputs": [],
   "source": [
    "template_body = cv2.imread('probeersel/body.png',0)\n",
    "h_body,w_body = template_body.shape[::1]"
   ]
  },
  {
   "cell_type": "code",
   "execution_count": 364,
   "metadata": {},
   "outputs": [],
   "source": [
    "template_flag = cv2.imread('probeersel/flag.png',0)\n",
    "h_flag,w_flag = template_flag.shape[::1]"
   ]
  },
  {
   "cell_type": "markdown",
   "metadata": {},
   "source": [
    "Find locations of template matches"
   ]
  },
  {
   "cell_type": "code",
   "execution_count": 365,
   "metadata": {},
   "outputs": [],
   "source": [
    "res_head = cv2.matchTemplate(img_gray, template_head, cv2.TM_CCOEFF_NORMED)\n",
    "threshold = 0.8\n",
    "loc_head = np.where(res_head >= threshold)\n",
    "\n",
    "head_list = []\n",
    "\n",
    "for pt in zip(*loc_head[::-1]):\n",
    "    head_list.append([pt[0], pt[1]])"
   ]
  },
  {
   "cell_type": "code",
   "execution_count": 366,
   "metadata": {},
   "outputs": [],
   "source": [
    "res_body = cv2.matchTemplate(img_gray, template_body, cv2.TM_CCOEFF_NORMED)\n",
    "threshold = 0.8\n",
    "loc_body = np.where(res_body >= threshold)\n",
    "\n",
    "body_list = []\n",
    "\n",
    "for pt in zip(*loc_body[::-1]):\n",
    "    body_list.append([pt[0], pt[1]])"
   ]
  },
  {
   "cell_type": "code",
   "execution_count": 367,
   "metadata": {},
   "outputs": [],
   "source": [
    "res_flag = cv2.matchTemplate(img_gray, template_flag, cv2.TM_CCOEFF_NORMED)\n",
    "threshold = 0.8\n",
    "loc_flag = np.where(res_flag >= threshold)\n",
    "\n",
    "flag_list = []\n",
    "\n",
    "for pt in zip(*loc_flag[::-1]):\n",
    "    flag_list.append([pt[0], pt[1]])"
   ]
  },
  {
   "cell_type": "markdown",
   "metadata": {},
   "source": [
    "Remove (semi-)duplicates"
   ]
  },
  {
   "cell_type": "code",
   "execution_count": 368,
   "metadata": {},
   "outputs": [],
   "source": [
    "flag_list.sort()\n",
    "remove_flag = []\n",
    "\n",
    "for i,pt in enumerate(flag_list):\n",
    "    if i in remove_flag: continue\n",
    "    for j in range(i+1,len(flag_list)):\n",
    "        pt2 = flag_list[j]\n",
    "        if pt2[0] in range(pt[0]-4,pt[0]+4) and pt2[1] in range(pt[1]-3,pt[1]+3):\n",
    "            remove_flag.append(j)\n",
    "            \n",
    "unique_flags = []\n",
    "\n",
    "for i in range(len(flag_list)):\n",
    "    if i not in remove_flag:\n",
    "        unique_flags.append(flag_list[i])"
   ]
  },
  {
   "cell_type": "code",
   "execution_count": 369,
   "metadata": {},
   "outputs": [],
   "source": [
    "head_list.sort()\n",
    "remove_head = []\n",
    "\n",
    "for i,pt in enumerate(head_list):\n",
    "    if i in remove_head: continue\n",
    "    for j in range(i+1,len(head_list)):\n",
    "        pt2 = head_list[j]\n",
    "        if pt2[0] in range(pt[0]-4,pt[0]+4) and pt2[1] in range(pt[1]-3,pt[1]+3):\n",
    "            remove_head.append(j)\n",
    "            \n",
    "unique_heads = []\n",
    "\n",
    "for i in range(len(head_list)):\n",
    "    if i not in remove_head:\n",
    "        unique_heads.append(head_list[i])"
   ]
  },
  {
   "cell_type": "markdown",
   "metadata": {},
   "source": [
    "Show locations of template matches in image"
   ]
  },
  {
   "cell_type": "code",
   "execution_count": 370,
   "metadata": {},
   "outputs": [],
   "source": [
    "img_copy2 = img_copy.copy()\n",
    "for pt in unique_heads:\n",
    "    cv2.rectangle(img_copy2, (pt[0],pt[1]), (pt[0]+w_head,pt[1]+h_head),(255,0,0),1)\n",
    "for pt in unique_flags:\n",
    "    cv2.rectangle(img_copy2, (pt[0],pt[1]), (pt[0]+w_flag,pt[1]+h_flag),(0,0,255),1)\n",
    "\n",
    "cv2.imshow('image bar', img_copy2)"
   ]
  },
  {
   "cell_type": "markdown",
   "metadata": {},
   "source": [
    "(test for finding note pitch)"
   ]
  },
  {
   "cell_type": "code",
   "execution_count": 371,
   "metadata": {},
   "outputs": [],
   "source": [
    "pitch_list = ['G6','F6','E6','D6','C6','B6','A6','G5','F5','E5','D5','C5','B5','A5','G4','F4','E4','D4']"
   ]
  },
  {
   "cell_type": "code",
   "execution_count": 372,
   "metadata": {},
   "outputs": [],
   "source": [
    "def find_pitch(x,y):\n",
    "    line_vals = []\n",
    "    for l in all_lines:\n",
    "        line_vals.append(calc_y(l,x))\n",
    "        \n",
    "    if y<min(line_vals):\n",
    "        print('too high: %d'%y)\n",
    "        return('Error')\n",
    "    elif y>max(line_vals):\n",
    "        print('too low: %d'%y)\n",
    "        return('Error')\n",
    "    else:\n",
    "        i=0\n",
    "        found = False\n",
    "        while found==False:\n",
    "            i = i+1\n",
    "            found = (y<line_vals[i])\n",
    "        \n",
    "        s = line_vals[i-1]\n",
    "        e = line_vals[i]\n",
    "        \n",
    "        # use dist/4\n",
    "        if y in range(int(e-dist/4)+1,e+1):\n",
    "            pitch = line_vals.index(e)*2\n",
    "        elif y in range(s,int(s+dist/4)):\n",
    "            pitch = line_vals.index(s)*2\n",
    "        else: pitch = line_vals.index(e)*2-1\n",
    "        \n",
    "#         diff_s = abs(y-s)\n",
    "#         diff_e = abs(e-y)\n",
    "#         diff_m = abs(diff_s-diff_e)/2\n",
    "#         mindiff = min(diff_s,diff_e,diff_m)\n",
    "        \n",
    "#         if mindiff==diff_s:\n",
    "#             pitch = line_vals.index(s)*2\n",
    "#         elif mindiff==diff_e:\n",
    "#             pitch = line_vals.index(e)*2\n",
    "#         else: pitch = line_vals.index(e)*2-1\n",
    "    return pitch_list[pitch]"
   ]
  },
  {
   "cell_type": "code",
   "execution_count": 373,
   "metadata": {},
   "outputs": [
    {
     "name": "stdout",
     "output_type": "stream",
     "text": [
      "D4\n",
      "F4\n",
      "D4\n",
      "F4\n",
      "D4\n",
      "D4\n",
      "F4\n",
      "D4\n",
      "F4\n",
      "D4\n",
      "D4\n",
      "E4\n",
      "D4\n",
      "E4\n",
      "D4\n"
     ]
    }
   ],
   "source": [
    "for pt in unique_heads:\n",
    "    y = int(pt[1]+(h_head/2)-1)\n",
    "    x = int(pt[0]+(w_head/2)-1)\n",
    "    \n",
    "    pitch = find_pitch(x,y)\n",
    "    print(pitch)"
   ]
  },
  {
   "cell_type": "code",
   "execution_count": 374,
   "metadata": {},
   "outputs": [],
   "source": [
    "for pt in unique_heads:\n",
    "    y = int(pt[1]+(h_head/2)-1)\n",
    "    x = int(pt[0]+(w_head/2)-1)\n",
    "    cv2.rectangle(img_copy2, (x,y), (x+1,y+1),(0,255,0),1)\n",
    "\n",
    "for n, line in enumerate(all_lines):\n",
    "    nr = n%len(colours)\n",
    "    pt1 = (line[0],line[1])\n",
    "    pt2 = (line[2],line[3])\n",
    "    cv2.line(img_copy2, pt1, pt2, (0,255,255), 1)\n",
    "cv2.imshow('image bar', img_copy2)"
   ]
  },
  {
   "cell_type": "markdown",
   "metadata": {},
   "source": [
    "Find connected note parts"
   ]
  },
  {
   "cell_type": "code",
   "execution_count": null,
   "metadata": {},
   "outputs": [],
   "source": []
  },
  {
   "cell_type": "code",
   "execution_count": null,
   "metadata": {},
   "outputs": [],
   "source": []
  },
  {
   "cell_type": "markdown",
   "metadata": {},
   "source": [
    "Determine length and pitch of notes"
   ]
  },
  {
   "cell_type": "code",
   "execution_count": null,
   "metadata": {},
   "outputs": [],
   "source": []
  },
  {
   "cell_type": "code",
   "execution_count": null,
   "metadata": {},
   "outputs": [],
   "source": []
  }
 ],
 "metadata": {
  "kernelspec": {
   "display_name": "Python 3",
   "language": "python",
   "name": "python3"
  },
  "language_info": {
   "codemirror_mode": {
    "name": "ipython",
    "version": 3
   },
   "file_extension": ".py",
   "mimetype": "text/x-python",
   "name": "python",
   "nbconvert_exporter": "python",
   "pygments_lexer": "ipython3",
   "version": "3.7.3"
  }
 },
 "nbformat": 4,
 "nbformat_minor": 2
}
